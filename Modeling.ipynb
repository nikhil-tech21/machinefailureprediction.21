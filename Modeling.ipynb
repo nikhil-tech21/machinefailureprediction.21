{
 "cells": [
  {
   "cell_type": "code",
   "execution_count": 1,
   "id": "ab10d9e3-1f9b-469e-8a06-0c3db94154ab",
   "metadata": {},
   "outputs": [
    {
     "data": {
      "text/html": [
       "<div>\n",
       "<style scoped>\n",
       "    .dataframe tbody tr th:only-of-type {\n",
       "        vertical-align: middle;\n",
       "    }\n",
       "\n",
       "    .dataframe tbody tr th {\n",
       "        vertical-align: top;\n",
       "    }\n",
       "\n",
       "    .dataframe thead th {\n",
       "        text-align: right;\n",
       "    }\n",
       "</style>\n",
       "<table border=\"1\" class=\"dataframe\">\n",
       "  <thead>\n",
       "    <tr style=\"text-align: right;\">\n",
       "      <th></th>\n",
       "      <th>footfall</th>\n",
       "      <th>tempMode</th>\n",
       "      <th>AQ</th>\n",
       "      <th>USS</th>\n",
       "      <th>CS</th>\n",
       "      <th>VOC</th>\n",
       "      <th>RP</th>\n",
       "      <th>IP</th>\n",
       "      <th>Temperature</th>\n",
       "      <th>fail</th>\n",
       "    </tr>\n",
       "  </thead>\n",
       "  <tbody>\n",
       "    <tr>\n",
       "      <th>0</th>\n",
       "      <td>0</td>\n",
       "      <td>7</td>\n",
       "      <td>7</td>\n",
       "      <td>1</td>\n",
       "      <td>6</td>\n",
       "      <td>6</td>\n",
       "      <td>36</td>\n",
       "      <td>3</td>\n",
       "      <td>1</td>\n",
       "      <td>1</td>\n",
       "    </tr>\n",
       "    <tr>\n",
       "      <th>1</th>\n",
       "      <td>190</td>\n",
       "      <td>1</td>\n",
       "      <td>3</td>\n",
       "      <td>3</td>\n",
       "      <td>5</td>\n",
       "      <td>1</td>\n",
       "      <td>20</td>\n",
       "      <td>4</td>\n",
       "      <td>1</td>\n",
       "      <td>0</td>\n",
       "    </tr>\n",
       "    <tr>\n",
       "      <th>2</th>\n",
       "      <td>31</td>\n",
       "      <td>7</td>\n",
       "      <td>2</td>\n",
       "      <td>2</td>\n",
       "      <td>6</td>\n",
       "      <td>1</td>\n",
       "      <td>24</td>\n",
       "      <td>6</td>\n",
       "      <td>1</td>\n",
       "      <td>0</td>\n",
       "    </tr>\n",
       "    <tr>\n",
       "      <th>3</th>\n",
       "      <td>83</td>\n",
       "      <td>4</td>\n",
       "      <td>3</td>\n",
       "      <td>4</td>\n",
       "      <td>5</td>\n",
       "      <td>1</td>\n",
       "      <td>28</td>\n",
       "      <td>6</td>\n",
       "      <td>1</td>\n",
       "      <td>0</td>\n",
       "    </tr>\n",
       "    <tr>\n",
       "      <th>4</th>\n",
       "      <td>640</td>\n",
       "      <td>7</td>\n",
       "      <td>5</td>\n",
       "      <td>6</td>\n",
       "      <td>4</td>\n",
       "      <td>0</td>\n",
       "      <td>68</td>\n",
       "      <td>6</td>\n",
       "      <td>1</td>\n",
       "      <td>0</td>\n",
       "    </tr>\n",
       "  </tbody>\n",
       "</table>\n",
       "</div>"
      ],
      "text/plain": [
       "   footfall  tempMode  AQ  USS  CS  VOC  RP  IP  Temperature  fail\n",
       "0         0         7   7    1   6    6  36   3            1     1\n",
       "1       190         1   3    3   5    1  20   4            1     0\n",
       "2        31         7   2    2   6    1  24   6            1     0\n",
       "3        83         4   3    4   5    1  28   6            1     0\n",
       "4       640         7   5    6   4    0  68   6            1     0"
      ]
     },
     "execution_count": 1,
     "metadata": {},
     "output_type": "execute_result"
    }
   ],
   "source": [
    "import pandas as pd\n",
    "df = pd.read_csv('datasets.csv')\n",
    "df.head()"
   ]
  },
  {
   "cell_type": "code",
   "execution_count": 2,
   "id": "b6a08b80-d652-4a27-a089-896da5b96cd6",
   "metadata": {},
   "outputs": [
    {
     "data": {
      "text/plain": [
       "(944, 10)"
      ]
     },
     "execution_count": 2,
     "metadata": {},
     "output_type": "execute_result"
    }
   ],
   "source": [
    "df.shape"
   ]
  },
  {
   "cell_type": "code",
   "execution_count": 3,
   "id": "8937a5bb-f44f-447c-be5c-f53faca159b1",
   "metadata": {},
   "outputs": [
    {
     "data": {
      "text/plain": [
       "footfall       0\n",
       "tempMode       0\n",
       "AQ             0\n",
       "USS            0\n",
       "CS             0\n",
       "VOC            0\n",
       "RP             0\n",
       "IP             0\n",
       "Temperature    0\n",
       "fail           0\n",
       "dtype: int64"
      ]
     },
     "execution_count": 3,
     "metadata": {},
     "output_type": "execute_result"
    }
   ],
   "source": [
    "df.isnull().sum()"
   ]
  },
  {
   "cell_type": "code",
   "execution_count": 4,
   "id": "098c5acb-ac4d-4a04-a787-eb07c55d1c6e",
   "metadata": {},
   "outputs": [
    {
     "data": {
      "text/plain": [
       "fail\n",
       "0    551\n",
       "1    393\n",
       "Name: count, dtype: int64"
      ]
     },
     "execution_count": 4,
     "metadata": {},
     "output_type": "execute_result"
    }
   ],
   "source": [
    "df['fail'].value_counts()"
   ]
  },
  {
   "cell_type": "code",
   "execution_count": 6,
   "id": "eed5656b-1d5f-4571-b554-e715b0da7dce",
   "metadata": {},
   "outputs": [],
   "source": [
    "from sklearn.utils import resample\n",
    "df_majority = df[df['fail'] == 0]\n",
    "df_minority = df[df['fail'] == 1]\n",
    "df_minority_upsampled = resample(df_minority,replace=True,n_samples=len(df_majority),random_state=42)\n",
    "df_balanced = pd.concat([df_majority, df_minority_upsampled])"
   ]
  },
  {
   "cell_type": "code",
   "execution_count": 7,
   "id": "d9ba5a50-70ac-441d-a1ee-bc241ad3b3e1",
   "metadata": {},
   "outputs": [
    {
     "data": {
      "text/plain": [
       "fail\n",
       "0    551\n",
       "1    551\n",
       "Name: count, dtype: int64"
      ]
     },
     "execution_count": 7,
     "metadata": {},
     "output_type": "execute_result"
    }
   ],
   "source": [
    "df_balanced['fail'].value_counts()"
   ]
  },
  {
   "cell_type": "code",
   "execution_count": 8,
   "id": "281fd769-201a-4afb-85b7-f3145281a203",
   "metadata": {},
   "outputs": [],
   "source": [
    "from sklearn.model_selection import train_test_split\n",
    "from sklearn.preprocessing import StandardScaler\n",
    "x = df_balanced.drop(columns=['fail'])\n",
    "y = df_balanced['fail']\n",
    "x_train, x_test, y_train, y_test = train_test_split(x, y, test_size=0.2, random_state=42)"
   ]
  },
  {
   "cell_type": "code",
   "execution_count": 10,
   "id": "c887b88d-5549-4d33-a9b1-2e7c523d32d7",
   "metadata": {},
   "outputs": [],
   "source": [
    "scaler = StandardScaler()\n",
    "x_train_scaled = scaler.fit_transform(x_train)\n",
    "x_test_scaled = scaler.transform(x_test)"
   ]
  },
  {
   "cell_type": "code",
   "execution_count": 17,
   "id": "37bf5537-fc49-4aaa-a002-3209646cf87c",
   "metadata": {},
   "outputs": [],
   "source": [
    "from sklearn.ensemble import RandomForestClassifier\n",
    "rf_model = RandomForestClassifier()\n",
    "rf_model.fit(x_train_scaled,y_train)\n",
    "y_pred = rf_model.predict(x_test_scaled)"
   ]
  },
  {
   "cell_type": "code",
   "execution_count": 19,
   "id": "e120ec59-b4c8-41df-a842-7bb5e35163b4",
   "metadata": {},
   "outputs": [],
   "source": [
    "from sklearn.metrics import accuracy_score, confusion_matrix, classification_report"
   ]
  },
  {
   "cell_type": "code",
   "execution_count": 20,
   "id": "b65b177e-2cc7-4173-8154-654f7aa14e26",
   "metadata": {},
   "outputs": [
    {
     "data": {
      "text/plain": [
       "0.9230769230769231"
      ]
     },
     "execution_count": 20,
     "metadata": {},
     "output_type": "execute_result"
    }
   ],
   "source": [
    "accuracy_score(y_test,y_pred)"
   ]
  },
  {
   "cell_type": "code",
   "execution_count": 21,
   "id": "f2ca6279-17b2-4e30-9bb3-ec5d498d07b4",
   "metadata": {},
   "outputs": [
    {
     "data": {
      "text/plain": [
       "array([[109,   9],\n",
       "       [  8,  95]])"
      ]
     },
     "execution_count": 21,
     "metadata": {},
     "output_type": "execute_result"
    }
   ],
   "source": [
    "confusion_matrix(y_test,y_pred)"
   ]
  },
  {
   "cell_type": "code",
   "execution_count": 22,
   "id": "52d1046d-f4bd-4deb-ac4c-0d254b7e4ed4",
   "metadata": {},
   "outputs": [
    {
     "name": "stdout",
     "output_type": "stream",
     "text": [
      "              precision    recall  f1-score   support\n",
      "\n",
      "           0       0.93      0.92      0.93       118\n",
      "           1       0.91      0.92      0.92       103\n",
      "\n",
      "    accuracy                           0.92       221\n",
      "   macro avg       0.92      0.92      0.92       221\n",
      "weighted avg       0.92      0.92      0.92       221\n",
      "\n"
     ]
    }
   ],
   "source": [
    "print(classification_report(y_test,y_pred))"
   ]
  },
  {
   "cell_type": "code",
   "execution_count": 25,
   "id": "572bbc1e-5cfe-402d-b496-64140ba7de08",
   "metadata": {},
   "outputs": [
    {
     "name": "stdout",
     "output_type": "stream",
     "text": [
      "Collecting xgboost\n",
      "  Downloading xgboost-3.0.1-py3-none-macosx_12_0_arm64.whl.metadata (2.1 kB)\n",
      "Requirement already satisfied: numpy in /opt/anaconda3/lib/python3.12/site-packages (from xgboost) (1.26.4)\n",
      "Requirement already satisfied: scipy in /opt/anaconda3/lib/python3.12/site-packages (from xgboost) (1.13.1)\n",
      "Downloading xgboost-3.0.1-py3-none-macosx_12_0_arm64.whl (2.0 MB)\n",
      "\u001b[2K   \u001b[90m━━━━━━━━━━━━━━━━━━━━━━━━━━━━━━━━━━━━━━━━\u001b[0m \u001b[32m2.0/2.0 MB\u001b[0m \u001b[31m1.5 MB/s\u001b[0m eta \u001b[36m0:00:00\u001b[0ma \u001b[36m0:00:01\u001b[0m0m\n",
      "\u001b[?25hInstalling collected packages: xgboost\n",
      "Successfully installed xgboost-3.0.1\n"
     ]
    }
   ],
   "source": [
    "!pip install xgboost"
   ]
  },
  {
   "cell_type": "code",
   "execution_count": 26,
   "id": "a46da650-8213-4d75-bcd8-554fa22b975c",
   "metadata": {},
   "outputs": [],
   "source": [
    "from sklearn.ensemble import RandomForestClassifier, AdaBoostClassifier, GradientBoostingClassifier\n",
    "from sklearn.linear_model import LogisticRegression\n",
    "from sklearn.svm import SVC\n",
    "from sklearn.neighbors import KNeighborsClassifier\n",
    "from sklearn.tree import DecisionTreeClassifier\n",
    "from sklearn.naive_bayes import GaussianNB\n",
    "from xgboost import XGBClassifier"
   ]
  },
  {
   "cell_type": "code",
   "execution_count": 28,
   "id": "14391136-0c65-4734-9530-f442a387330f",
   "metadata": {},
   "outputs": [
    {
     "name": "stdout",
     "output_type": "stream",
     "text": [
      "RandomForestClassifier Accuracy: 0.9230769230769231\n",
      "Classification Report for RandomForestClassifier:\n",
      "              precision    recall  f1-score   support\n",
      "\n",
      "           0       0.94      0.92      0.93       118\n",
      "           1       0.91      0.93      0.92       103\n",
      "\n",
      "    accuracy                           0.92       221\n",
      "   macro avg       0.92      0.92      0.92       221\n",
      "weighted avg       0.92      0.92      0.92       221\n",
      "\n",
      "Confusion Matrix for RandomForestClassifier:\n",
      "[[108  10]\n",
      " [  7  96]]\n",
      "==================================================\n",
      "AdaBoostClassifier Accuracy: 0.9140271493212669\n",
      "Classification Report for AdaBoostClassifier:\n",
      "              precision    recall  f1-score   support\n",
      "\n",
      "           0       0.95      0.89      0.92       118\n",
      "           1       0.88      0.94      0.91       103\n",
      "\n",
      "    accuracy                           0.91       221\n",
      "   macro avg       0.91      0.92      0.91       221\n",
      "weighted avg       0.92      0.91      0.91       221\n",
      "\n",
      "Confusion Matrix for AdaBoostClassifier:\n",
      "[[105  13]\n",
      " [  6  97]]\n",
      "==================================================\n"
     ]
    },
    {
     "name": "stderr",
     "output_type": "stream",
     "text": [
      "/opt/anaconda3/lib/python3.12/site-packages/sklearn/ensemble/_weight_boosting.py:527: FutureWarning: The SAMME.R algorithm (the default) is deprecated and will be removed in 1.6. Use the SAMME algorithm to circumvent this warning.\n",
      "  warnings.warn(\n"
     ]
    },
    {
     "name": "stdout",
     "output_type": "stream",
     "text": [
      "GradientBoostingClassifier Accuracy: 0.9049773755656109\n",
      "Classification Report for GradientBoostingClassifier:\n",
      "              precision    recall  f1-score   support\n",
      "\n",
      "           0       0.94      0.87      0.91       118\n",
      "           1       0.87      0.94      0.90       103\n",
      "\n",
      "    accuracy                           0.90       221\n",
      "   macro avg       0.91      0.91      0.90       221\n",
      "weighted avg       0.91      0.90      0.91       221\n",
      "\n",
      "Confusion Matrix for GradientBoostingClassifier:\n",
      "[[103  15]\n",
      " [  6  97]]\n",
      "==================================================\n",
      "LogisticRegression Accuracy: 0.9230769230769231\n",
      "Classification Report for LogisticRegression:\n",
      "              precision    recall  f1-score   support\n",
      "\n",
      "           0       0.95      0.90      0.93       118\n",
      "           1       0.89      0.95      0.92       103\n",
      "\n",
      "    accuracy                           0.92       221\n",
      "   macro avg       0.92      0.92      0.92       221\n",
      "weighted avg       0.93      0.92      0.92       221\n",
      "\n",
      "Confusion Matrix for LogisticRegression:\n",
      "[[106  12]\n",
      " [  5  98]]\n",
      "==================================================\n",
      "SVC Accuracy: 0.918552036199095\n",
      "Classification Report for SVC:\n",
      "              precision    recall  f1-score   support\n",
      "\n",
      "           0       0.95      0.90      0.92       118\n",
      "           1       0.89      0.94      0.92       103\n",
      "\n",
      "    accuracy                           0.92       221\n",
      "   macro avg       0.92      0.92      0.92       221\n",
      "weighted avg       0.92      0.92      0.92       221\n",
      "\n",
      "Confusion Matrix for SVC:\n",
      "[[106  12]\n",
      " [  6  97]]\n",
      "==================================================\n",
      "KNeighborsClassifier Accuracy: 0.9004524886877828\n",
      "Classification Report for KNeighborsClassifier:\n",
      "              precision    recall  f1-score   support\n",
      "\n",
      "           0       0.92      0.89      0.91       118\n",
      "           1       0.88      0.91      0.90       103\n",
      "\n",
      "    accuracy                           0.90       221\n",
      "   macro avg       0.90      0.90      0.90       221\n",
      "weighted avg       0.90      0.90      0.90       221\n",
      "\n",
      "Confusion Matrix for KNeighborsClassifier:\n",
      "[[105  13]\n",
      " [  9  94]]\n",
      "==================================================\n",
      "DecisionTreeClassifier Accuracy: 0.8868778280542986\n",
      "Classification Report for DecisionTreeClassifier:\n",
      "              precision    recall  f1-score   support\n",
      "\n",
      "           0       0.92      0.86      0.89       118\n",
      "           1       0.85      0.91      0.88       103\n",
      "\n",
      "    accuracy                           0.89       221\n",
      "   macro avg       0.89      0.89      0.89       221\n",
      "weighted avg       0.89      0.89      0.89       221\n",
      "\n",
      "Confusion Matrix for DecisionTreeClassifier:\n",
      "[[102  16]\n",
      " [  9  94]]\n",
      "==================================================\n",
      "GaussianNB Accuracy: 0.9230769230769231\n",
      "Classification Report for GaussianNB:\n",
      "              precision    recall  f1-score   support\n",
      "\n",
      "           0       0.95      0.90      0.93       118\n",
      "           1       0.89      0.95      0.92       103\n",
      "\n",
      "    accuracy                           0.92       221\n",
      "   macro avg       0.92      0.92      0.92       221\n",
      "weighted avg       0.93      0.92      0.92       221\n",
      "\n",
      "Confusion Matrix for GaussianNB:\n",
      "[[106  12]\n",
      " [  5  98]]\n",
      "==================================================\n",
      "XGBClassifier Accuracy: 0.918552036199095\n",
      "Classification Report for XGBClassifier:\n",
      "              precision    recall  f1-score   support\n",
      "\n",
      "           0       0.93      0.92      0.92       118\n",
      "           1       0.90      0.92      0.91       103\n",
      "\n",
      "    accuracy                           0.92       221\n",
      "   macro avg       0.92      0.92      0.92       221\n",
      "weighted avg       0.92      0.92      0.92       221\n",
      "\n",
      "Confusion Matrix for XGBClassifier:\n",
      "[[108  10]\n",
      " [  8  95]]\n",
      "==================================================\n"
     ]
    }
   ],
   "source": [
    "classifiers = [\n",
    "    RandomForestClassifier(),\n",
    "    AdaBoostClassifier(),\n",
    "    GradientBoostingClassifier(),\n",
    "    LogisticRegression(),\n",
    "    SVC(),\n",
    "    KNeighborsClassifier(),\n",
    "    DecisionTreeClassifier(),\n",
    "    GaussianNB(),\n",
    "    XGBClassifier()\n",
    "]\n",
    "\n",
    "results = {}\n",
    "\n",
    "\n",
    "for clf in classifiers:\n",
    "    clf_name = clf.__class__.__name__\n",
    "    clf.fit(x_train_scaled, y_train)\n",
    "    y_pred = clf.predict(x_test_scaled)\n",
    "    \n",
    "    accuracy = accuracy_score(y_test, y_pred)\n",
    "    print(f\"{clf_name} Accuracy: {accuracy}\")\n",
    "    \n",
    "    print(f\"Classification Report for {clf_name}:\")\n",
    "    print(classification_report(y_test, y_pred))\n",
    "    \n",
    "    print(f\"Confusion Matrix for {clf_name}:\")\n",
    "    print(confusion_matrix(y_test, y_pred))\n",
    "    print(\"=\"*50)"
   ]
  },
  {
   "cell_type": "code",
   "execution_count": 32,
   "id": "423bb799-03da-4525-aeb9-853946167626",
   "metadata": {},
   "outputs": [
    {
     "name": "stderr",
     "output_type": "stream",
     "text": [
      "/var/folders/d3/hclw9nhd1b1b321nwk209b4c0000gn/T/ipykernel_32241/1314361164.py:30: FutureWarning: The behavior of DataFrame concatenation with empty or all-NA entries is deprecated. In a future version, this will no longer exclude empty or all-NA columns when determining the result dtypes. To retain the old behavior, exclude the relevant entries before the concat operation.\n",
      "  results_df = pd.concat([results_df, pd.DataFrame([{'Model': clf_name, 'Accuracy': accuracy, 'F1-Score': f1_score,\n",
      "/opt/anaconda3/lib/python3.12/site-packages/sklearn/ensemble/_weight_boosting.py:527: FutureWarning: The SAMME.R algorithm (the default) is deprecated and will be removed in 1.6. Use the SAMME algorithm to circumvent this warning.\n",
      "  warnings.warn(\n"
     ]
    },
    {
     "data": {
      "text/html": [
       "<div>\n",
       "<style scoped>\n",
       "    .dataframe tbody tr th:only-of-type {\n",
       "        vertical-align: middle;\n",
       "    }\n",
       "\n",
       "    .dataframe tbody tr th {\n",
       "        vertical-align: top;\n",
       "    }\n",
       "\n",
       "    .dataframe thead th {\n",
       "        text-align: right;\n",
       "    }\n",
       "</style>\n",
       "<table border=\"1\" class=\"dataframe\">\n",
       "  <thead>\n",
       "    <tr style=\"text-align: right;\">\n",
       "      <th></th>\n",
       "      <th>Model</th>\n",
       "      <th>Accuracy</th>\n",
       "      <th>F1-Score</th>\n",
       "      <th>Precision</th>\n",
       "      <th>Recall</th>\n",
       "    </tr>\n",
       "  </thead>\n",
       "  <tbody>\n",
       "    <tr>\n",
       "      <th>0</th>\n",
       "      <td>RandomForestClassifier</td>\n",
       "      <td>0.923077</td>\n",
       "      <td>0.923134</td>\n",
       "      <td>0.923531</td>\n",
       "      <td>0.923077</td>\n",
       "    </tr>\n",
       "    <tr>\n",
       "      <th>1</th>\n",
       "      <td>AdaBoostClassifier</td>\n",
       "      <td>0.914027</td>\n",
       "      <td>0.914126</td>\n",
       "      <td>0.916058</td>\n",
       "      <td>0.914027</td>\n",
       "    </tr>\n",
       "    <tr>\n",
       "      <th>2</th>\n",
       "      <td>GradientBoostingClassifier</td>\n",
       "      <td>0.904977</td>\n",
       "      <td>0.905083</td>\n",
       "      <td>0.908190</td>\n",
       "      <td>0.904977</td>\n",
       "    </tr>\n",
       "    <tr>\n",
       "      <th>3</th>\n",
       "      <td>LogisticRegression</td>\n",
       "      <td>0.923077</td>\n",
       "      <td>0.923165</td>\n",
       "      <td>0.925106</td>\n",
       "      <td>0.923077</td>\n",
       "    </tr>\n",
       "    <tr>\n",
       "      <th>4</th>\n",
       "      <td>SVC</td>\n",
       "      <td>0.918552</td>\n",
       "      <td>0.918642</td>\n",
       "      <td>0.920087</td>\n",
       "      <td>0.918552</td>\n",
       "    </tr>\n",
       "    <tr>\n",
       "      <th>5</th>\n",
       "      <td>KNeighborsClassifier</td>\n",
       "      <td>0.900452</td>\n",
       "      <td>0.900542</td>\n",
       "      <td>0.901223</td>\n",
       "      <td>0.900452</td>\n",
       "    </tr>\n",
       "    <tr>\n",
       "      <th>6</th>\n",
       "      <td>DecisionTreeClassifier</td>\n",
       "      <td>0.868778</td>\n",
       "      <td>0.868897</td>\n",
       "      <td>0.873324</td>\n",
       "      <td>0.868778</td>\n",
       "    </tr>\n",
       "    <tr>\n",
       "      <th>7</th>\n",
       "      <td>GaussianNB</td>\n",
       "      <td>0.923077</td>\n",
       "      <td>0.923165</td>\n",
       "      <td>0.925106</td>\n",
       "      <td>0.923077</td>\n",
       "    </tr>\n",
       "    <tr>\n",
       "      <th>8</th>\n",
       "      <td>XGBClassifier</td>\n",
       "      <td>0.918552</td>\n",
       "      <td>0.918596</td>\n",
       "      <td>0.918790</td>\n",
       "      <td>0.918552</td>\n",
       "    </tr>\n",
       "  </tbody>\n",
       "</table>\n",
       "</div>"
      ],
      "text/plain": [
       "                        Model  Accuracy  F1-Score  Precision    Recall\n",
       "0      RandomForestClassifier  0.923077  0.923134   0.923531  0.923077\n",
       "1          AdaBoostClassifier  0.914027  0.914126   0.916058  0.914027\n",
       "2  GradientBoostingClassifier  0.904977  0.905083   0.908190  0.904977\n",
       "3          LogisticRegression  0.923077  0.923165   0.925106  0.923077\n",
       "4                         SVC  0.918552  0.918642   0.920087  0.918552\n",
       "5        KNeighborsClassifier  0.900452  0.900542   0.901223  0.900452\n",
       "6      DecisionTreeClassifier  0.868778  0.868897   0.873324  0.868778\n",
       "7                  GaussianNB  0.923077  0.923165   0.925106  0.923077\n",
       "8               XGBClassifier  0.918552  0.918596   0.918790  0.918552"
      ]
     },
     "execution_count": 32,
     "metadata": {},
     "output_type": "execute_result"
    }
   ],
   "source": [
    "classifiers = [\n",
    "    RandomForestClassifier(),\n",
    "    AdaBoostClassifier(),\n",
    "    GradientBoostingClassifier(),\n",
    "    LogisticRegression(),\n",
    "    SVC(),\n",
    "    KNeighborsClassifier(),\n",
    "    DecisionTreeClassifier(),\n",
    "    GaussianNB(),\n",
    "    XGBClassifier()\n",
    "]\n",
    "\n",
    "# Create a DataFrame to store the results\n",
    "results_df = pd.DataFrame(columns=['Model', 'Accuracy', 'F1-Score', 'Precision', 'Recall'])\n",
    "\n",
    "# Train and evaluate each classifier\n",
    "for clf in classifiers:\n",
    "    clf_name = clf.__class__.__name__\n",
    "    clf.fit(x_train_scaled, y_train)\n",
    "    y_pred = clf.predict(x_test_scaled)\n",
    "    \n",
    "    # Calculate evaluation metrics\n",
    "    accuracy = accuracy_score(y_test, y_pred)\n",
    "    report = classification_report(y_test, y_pred, output_dict=True)\n",
    "    f1_score = report['weighted avg']['f1-score']\n",
    "    precision = report['weighted avg']['precision']\n",
    "    recall = report['weighted avg']['recall']\n",
    "    \n",
    "    # Append results to DataFrame\n",
    "    results_df = pd.concat([results_df, pd.DataFrame([{'Model': clf_name, 'Accuracy': accuracy, 'F1-Score': f1_score, \n",
    "                                    'Precision': precision, 'Recall': recall}])], ignore_index=True)\n",
    "\n",
    "results_df"
   ]
  },
  {
   "cell_type": "code",
   "execution_count": 33,
   "id": "79891880-c7a9-4c6f-9d43-502c48aac01d",
   "metadata": {},
   "outputs": [
    {
     "name": "stdout",
     "output_type": "stream",
     "text": [
      "Random Forest Classifier Accuracy: 0.9230769230769231\n",
      "Classification Report for Random Forest Classifier:\n",
      "              precision    recall  f1-score   support\n",
      "\n",
      "           0       0.94      0.92      0.93       118\n",
      "           1       0.91      0.93      0.92       103\n",
      "\n",
      "    accuracy                           0.92       221\n",
      "   macro avg       0.92      0.92      0.92       221\n",
      "weighted avg       0.92      0.92      0.92       221\n",
      "\n",
      "Confusion Matrix for Random Forest Classifier:\n",
      "[[108  10]\n",
      " [  7  96]]\n"
     ]
    }
   ],
   "source": [
    "from sklearn.ensemble import RandomForestClassifier\n",
    "from sklearn.metrics import accuracy_score, classification_report, confusion_matrix\n",
    "\n",
    "# Instantiate the RandomForestClassifier\n",
    "rf_classifier = RandomForestClassifier()\n",
    "\n",
    "# Train the RandomForestClassifier\n",
    "rf_classifier.fit(x_train_scaled, y_train)\n",
    "\n",
    "# Predict on the test set\n",
    "y_pred_rf = rf_classifier.predict(x_test_scaled)\n",
    "\n",
    "# Calculate accuracy\n",
    "accuracy_rf = accuracy_score(y_test, y_pred_rf)\n",
    "print(\"Random Forest Classifier Accuracy:\", accuracy_rf)\n",
    "\n",
    "# Classification report\n",
    "print(\"Classification Report for Random Forest Classifier:\")\n",
    "print(classification_report(y_test, y_pred_rf))\n",
    "\n",
    "# Confusion matrix\n",
    "print(\"Confusion Matrix for Random Forest Classifier:\")\n",
    "print(confusion_matrix(y_test, y_pred_rf))"
   ]
  },
  {
   "cell_type": "code",
   "execution_count": 37,
   "id": "fbc3e5d7-f71d-4e30-9191-c9ee7ade7b56",
   "metadata": {},
   "outputs": [
    {
     "name": "stdout",
     "output_type": "stream",
     "text": [
      "predcted class  1\n",
      "actual class  1\n"
     ]
    }
   ],
   "source": [
    "# test 1:\n",
    "print(\"predcted class \",rf_classifier.predict(x_test_scaled[10].reshape(1,-1))[0])\n",
    "print(\"actual class \", y_test.iloc[10])"
   ]
  },
  {
   "cell_type": "code",
   "execution_count": 39,
   "id": "fe7ad6b8-1ffa-485f-b9c5-708f8d5a0f63",
   "metadata": {},
   "outputs": [
    {
     "name": "stdout",
     "output_type": "stream",
     "text": [
      "predcted class  0\n",
      "actual class  0\n"
     ]
    }
   ],
   "source": [
    "# test 2:\n",
    "print(\"predcted class \",rf_classifier.predict(x_test_scaled[200].reshape(1,-1))[0])\n",
    "print(\"actual class \", y_test.iloc[200])"
   ]
  },
  {
   "cell_type": "code",
   "execution_count": 40,
   "id": "276418c8-c95b-4ebc-8357-e438d35fcbcc",
   "metadata": {},
   "outputs": [
    {
     "name": "stdout",
     "output_type": "stream",
     "text": [
      "predcted class  0\n",
      "actual class  0\n"
     ]
    }
   ],
   "source": [
    "# test 3:\n",
    "print(\"predcted class \",rf_classifier.predict(x_test_scaled[110].reshape(1,-1))[0])\n",
    "print(\"actual class \", y_test.iloc[110])"
   ]
  },
  {
   "cell_type": "code",
   "execution_count": 41,
   "id": "74cdfa4e-4acf-4d56-875c-5044ba613263",
   "metadata": {},
   "outputs": [],
   "source": [
    "import pickle\n",
    "pickle.dump(rf_classifier,open(\"models/rf_classifier.pkl\",'wb'))\n",
    "pickle.dump(scaler,open(\"models/scaler.pkl\",'wb'))"
   ]
  },
  {
   "cell_type": "code",
   "execution_count": 43,
   "id": "b4266353-31e6-4fdc-9b8f-ba99e0f7434a",
   "metadata": {},
   "outputs": [],
   "source": [
    "import pickle\n",
    "\n",
    "# Load the RandomForestClassifier model\n",
    "with open(\"models/rf_classifier.pkl\", \"rb\") as file:\n",
    "    rf_classifier = pickle.load(file)\n",
    "\n",
    "# Load the scaler\n",
    "with open(\"models/scaler.pkl\", \"rb\") as file:\n",
    "    scaler = pickle.load(file)"
   ]
  },
  {
   "cell_type": "code",
   "execution_count": 44,
   "id": "d8fa2c82-e236-4458-b2bf-0367a2d2a58c",
   "metadata": {},
   "outputs": [],
   "source": [
    "import numpy as np\n",
    "\n",
    "def predict(rf_classifier, scaler, footfall, tempMode, AQ, USS, CS, VOC, RP, IP, Temperature):\n",
    "   \n",
    "    # Prepare features array\n",
    "    features = np.array([[ footfall, tempMode, AQ, USS, CS, VOC, RP, IP, Temperature]])\n",
    "    \n",
    "    # scalling\n",
    "    scaled_features = scaler.transform(features)\n",
    "    \n",
    "    # predict by model\n",
    "    result = rf_classifier.predict(scaled_features)\n",
    "    \n",
    "    return result[0]"
   ]
  },
  {
   "cell_type": "code",
   "execution_count": 46,
   "id": "46e4b8e7-3b93-4452-b71c-b2513304f94f",
   "metadata": {},
   "outputs": [
    {
     "name": "stdout",
     "output_type": "stream",
     "text": [
      "Machine no failure\n"
     ]
    },
    {
     "name": "stderr",
     "output_type": "stream",
     "text": [
      "/opt/anaconda3/lib/python3.12/site-packages/sklearn/base.py:493: UserWarning: X does not have valid feature names, but StandardScaler was fitted with feature names\n",
      "  warnings.warn(\n"
     ]
    }
   ],
   "source": [
    "# test 1:\n",
    "footfall = 450\n",
    "tempMode = 5\n",
    "AQ = 4\n",
    "USS = 5\n",
    "CS = 5\n",
    "VOC = 1\n",
    "RP = 40\n",
    "IP = 7\n",
    "Temperature =20\n",
    "\n",
    "result = predict(rf_classifier, scaler, footfall, tempMode, AQ, USS, CS, VOC, RP, IP, Temperature)\n",
    "\n",
    "\n",
    "if result == 1:\n",
    "    print(\"Machine failure \")\n",
    "else: \n",
    "    print(\"Machine no failure\")"
   ]
  },
  {
   "cell_type": "code",
   "execution_count": 49,
   "id": "193c44e6-c486-4cb6-b9cc-69d5f1220e18",
   "metadata": {},
   "outputs": [
    {
     "name": "stdout",
     "output_type": "stream",
     "text": [
      "Machine no failure\n"
     ]
    },
    {
     "name": "stderr",
     "output_type": "stream",
     "text": [
      "/opt/anaconda3/lib/python3.12/site-packages/sklearn/base.py:493: UserWarning: X does not have valid feature names, but StandardScaler was fitted with feature names\n",
      "  warnings.warn(\n"
     ]
    }
   ],
   "source": [
    "# test 2:\n",
    "footfall = 400\n",
    "tempMode = 7\n",
    "AQ = 3\n",
    "USS = 5\n",
    "CS = 5\n",
    "VOC = 1\n",
    "RP = 35\n",
    "IP = 7\n",
    "Temperature =30\n",
    "\n",
    "result = predict(rf_classifier, scaler, footfall, tempMode, AQ, USS, CS, VOC, RP, IP, Temperature)\n",
    "\n",
    "\n",
    "if result == 1:\n",
    "    print(\"Machine failure \")\n",
    "else: \n",
    "    print(\"Machine no failure\")"
   ]
  },
  {
   "cell_type": "code",
   "execution_count": 50,
   "id": "fc04b5ac-c144-4ade-a20a-5c34f717e889",
   "metadata": {},
   "outputs": [
    {
     "name": "stdout",
     "output_type": "stream",
     "text": [
      "Machine no failure\n"
     ]
    },
    {
     "name": "stderr",
     "output_type": "stream",
     "text": [
      "/opt/anaconda3/lib/python3.12/site-packages/sklearn/base.py:493: UserWarning: X does not have valid feature names, but StandardScaler was fitted with feature names\n",
      "  warnings.warn(\n"
     ]
    }
   ],
   "source": [
    "# test 3:\n",
    "footfall = 300\n",
    "tempMode = 4\n",
    "AQ = 2\n",
    "USS = 3\n",
    "CS = 6\n",
    "VOC = 2\n",
    "RP = 50\n",
    "IP = 8\n",
    "Temperature = 40\n",
    "\n",
    "result = predict(rf_classifier, scaler, footfall, tempMode, AQ, USS, CS, VOC, RP, IP, Temperature)\n",
    "\n",
    "\n",
    "if result == 1:\n",
    "    print(\"Machine failure \")\n",
    "else: \n",
    "    print(\"Machine no failure\")"
   ]
  },
  {
   "cell_type": "code",
   "execution_count": null,
   "id": "f5bdd9d8-2e27-49bd-90b5-2f4f74c4a349",
   "metadata": {},
   "outputs": [],
   "source": []
  }
 ],
 "metadata": {
  "kernelspec": {
   "display_name": "Python [conda env:base] *",
   "language": "python",
   "name": "conda-base-py"
  },
  "language_info": {
   "codemirror_mode": {
    "name": "ipython",
    "version": 3
   },
   "file_extension": ".py",
   "mimetype": "text/x-python",
   "name": "python",
   "nbconvert_exporter": "python",
   "pygments_lexer": "ipython3",
   "version": "3.12.7"
  }
 },
 "nbformat": 4,
 "nbformat_minor": 5
}
